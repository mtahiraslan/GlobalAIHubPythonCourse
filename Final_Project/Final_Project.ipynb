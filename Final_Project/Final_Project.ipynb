{
  "nbformat": 4,
  "nbformat_minor": 0,
  "metadata": {
    "colab": {
      "name": "Final_Project.ipynb",
      "provenance": []
    },
    "kernelspec": {
      "name": "python3",
      "display_name": "Python 3"
    }
  },
  "cells": [
    {
      "cell_type": "code",
      "metadata": {
        "id": "katVPB2pUt5M"
      },
      "source": [
        "class Employees():\r\n",
        "  lang=[]\r\n",
        "  def __init__(self,n = ' ',t =' ',a=0,l=' '):\r\n",
        "    self.name=n\r\n",
        "    self.title='Employee'\r\n",
        "    self.age=a\r\n",
        "    self.language=l\r\n",
        "    self.lang.append(l)\r\n",
        "  \r\n",
        "  def showData(self):\r\n",
        "    print(\"Name:\",self.name)\r\n",
        "    print(\"Title:\",self.title)\r\n",
        "    print(\"Age:\",self.age)\r\n",
        "    print(\"Languages:\",self.language)\r\n",
        "\r\n",
        "class Manager(Employees):\r\n",
        "  def __init__(self,n = ' ',t =' ',a=0,l=' '):\r\n",
        "    self.name=n\r\n",
        "    self.title='Manager'\r\n",
        "    self.age=a\r\n",
        "    self.language=l\r\n",
        "    self.lang.append(l)\r\n",
        "\r\n"
      ],
      "execution_count": 105,
      "outputs": []
    },
    {
      "cell_type": "code",
      "metadata": {
        "id": "GXeovb-v0O9l"
      },
      "source": [
        "emp1=Employees(\"Tahir\",\"Employee\",25,\"Turkish\")\r\n",
        "emp2=Employees(\"Jack\",\"Employee\",28,\"English\")\r\n",
        "mngr1=Manager(\"Tuana\",\"Manager\",27,\"Spanish,French\")\r\n",
        "mngr2=Manager(\"Hans\",\"Manager\",33,\"German\")"
      ],
      "execution_count": 106,
      "outputs": []
    },
    {
      "cell_type": "code",
      "metadata": {
        "colab": {
          "base_uri": "https://localhost:8080/"
        },
        "id": "naF14Nl50ufO",
        "outputId": "46d90428-bc72-4ded-a03f-f6afef0eac8c"
      },
      "source": [
        "emp1.showData()\r\n",
        "mngr1.showData()"
      ],
      "execution_count": 107,
      "outputs": [
        {
          "output_type": "stream",
          "text": [
            "Name: Tahir\n",
            "Title: Employee\n",
            "Age: 25\n",
            "Languages: Turkish\n",
            "Name: Tuana\n",
            "Title: Manager\n",
            "Age: 27\n",
            "Languages: Spanish,French\n"
          ],
          "name": "stdout"
        }
      ]
    },
    {
      "cell_type": "code",
      "metadata": {
        "colab": {
          "base_uri": "https://localhost:8080/"
        },
        "id": "SbA88DQD0zol",
        "outputId": "e18e0321-87e5-452b-91d0-e1503ccc7733"
      },
      "source": [
        "print(\"They can speak\",Employees.lang)"
      ],
      "execution_count": 108,
      "outputs": [
        {
          "output_type": "stream",
          "text": [
            "They can speak ['Turkish', 'English', 'Spanish,French', 'German']\n"
          ],
          "name": "stdout"
        }
      ]
    }
  ]
}