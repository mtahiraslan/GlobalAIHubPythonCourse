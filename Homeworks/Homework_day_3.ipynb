{
  "nbformat": 4,
  "nbformat_minor": 0,
  "metadata": {
    "colab": {
      "name": "Homework_day_3.ipynb",
      "provenance": []
    },
    "kernelspec": {
      "name": "python3",
      "display_name": "Python 3"
    }
  },
  "cells": [
    {
      "cell_type": "code",
      "metadata": {
        "colab": {
          "base_uri": "https://localhost:8080/"
        },
        "id": "0ne_fkk7RKQB",
        "outputId": "275b6ae7-52a9-4796-c36d-da108c18b244"
      },
      "source": [
        "# Question_1\r\n",
        "def userAndPass():\r\n",
        "  isCorrect=False\r\n",
        "  username=\"mtahiraslan\"\r\n",
        "  password=\"123456\"  \r\n",
        "  while isCorrect == False:\r\n",
        "    username_input=input(\"Please enter your username..\")\r\n",
        "    password_input=input(\"Please enter your password..\")\r\n",
        "    if(username == username_input and password == password_input ):\r\n",
        "      isCorrect=True\r\n",
        "      print(\"You have successfully logged in..\")\r\n",
        "    elif (username == username_input and password != password_input):\r\n",
        "      print(\"Your password is wrong please try again..\")\r\n",
        "    elif (username != username_input and password == password_input):\r\n",
        "      print(\"Your username is wrong please try again..\")\r\n",
        "    else:\r\n",
        "      print(\"Your username and password are wrong please try again..\")\r\n",
        "\r\n",
        "userAndPass()"
      ],
      "execution_count": 5,
      "outputs": [
        {
          "output_type": "stream",
          "text": [
            "Please enter your username..Mehmet\n",
            "Please enter your password..0000\n",
            "Your username and password are wrong please try again..\n",
            "Please enter your username..mtahiraslan\n",
            "Please enter your password..0000\n",
            "Your password is wrong please try again..\n",
            "Please enter your username..Tahir\n",
            "Please enter your password..123456\n",
            "Your username is wrong please try again..\n",
            "Please enter your username..mtahiraslan\n",
            "Please enter your password..123456\n",
            "You have successfully logged in..\n"
          ],
          "name": "stdout"
        }
      ]
    },
    {
      "cell_type": "code",
      "metadata": {
        "colab": {
          "base_uri": "https://localhost:8080/"
        },
        "id": "5cUhTLONjSCc",
        "outputId": "f6d3d1b0-b3bf-485d-f06f-26a6ae2b4146"
      },
      "source": [
        "# Extra\r\n",
        "\r\n",
        "def userAndPass():\r\n",
        "  dict={\"isCorrect\":False,\"username\":\"mtahiraslan\",\"password\":\"123456\"}  \r\n",
        "  while dict[\"isCorrect\"] == False:\r\n",
        "    username_input=input(\"Please enter your username..\")\r\n",
        "    password_input=input(\"Please enter your password..\")\r\n",
        "    if(dict[\"username\"] == username_input and dict[\"password\"] == password_input ):\r\n",
        "      dict[\"isCorrect\"]=True\r\n",
        "      print(\"You have successfully logged in..\")\r\n",
        "    elif (dict[\"username\"] == username_input and dict[\"password\"] != password_input):\r\n",
        "      print(\"Your password is wrong please try again..\")\r\n",
        "    elif (dict[\"username\"] != username_input and dict[\"password\"] == password_input):\r\n",
        "      print(\"Your username is wrong please try again..\")\r\n",
        "    else:\r\n",
        "      print(\"Your username and password are wrong please try again..\")\r\n",
        "\r\n",
        "userAndPass()\r\n",
        "\r\n"
      ],
      "execution_count": 12,
      "outputs": [
        {
          "output_type": "stream",
          "text": [
            "Please enter your username..mtahiraslan\n",
            "Please enter your password..123456\n",
            "You have successfully logged in..\n"
          ],
          "name": "stdout"
        }
      ]
    }
  ]
}