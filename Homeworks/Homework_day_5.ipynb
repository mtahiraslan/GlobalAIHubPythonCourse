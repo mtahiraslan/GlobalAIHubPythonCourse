{
  "nbformat": 4,
  "nbformat_minor": 0,
  "metadata": {
    "colab": {
      "name": "Homework_day_5.ipynb",
      "provenance": []
    },
    "kernelspec": {
      "name": "python3",
      "display_name": "Python 3"
    }
  },
  "cells": [
    {
      "cell_type": "code",
      "metadata": {
        "id": "E6wS0YERTJ5K"
      },
      "source": [
        "class Animals:\r\n",
        "  def __init__(self, n=' ',c=' ',t=' ',a=0,legNumber=0):\r\n",
        "    self.name=n\r\n",
        "    self.color=c\r\n",
        "    self.type=t\r\n",
        "    self.age=a\r\n",
        "    self.legNumber=legNumber\r\n",
        "\r\n",
        "  def setName (self, n ):\r\n",
        "        self.name = n\r\n",
        "  def getName (self):\r\n",
        "        return self.name\r\n",
        "  def setColor (self, c ):\r\n",
        "        self.color = c\r\n",
        "  def getColor (self):\r\n",
        "        return self.age\r\n",
        "  def setType(self, t):\r\n",
        "        self.type = t\r\n",
        "  def getType(self):\r\n",
        "        return self.type\r\n",
        "  def setAge (self, a):\r\n",
        "        self.age = a\r\n",
        "  def getAge (self):\r\n",
        "        return  \"{0} years\".format(self.age)\r\n",
        "  def setLegNumber (self, legNumber ):\r\n",
        "        self.legNumber = legNumber\r\n",
        "  def getLegNumber (self):\r\n",
        "        return self.legNumber\r\n",
        "  def message (self):\r\n",
        "        return \"The {0} is a {1} years old {2} creature with {3} legs.\".format (self.name, self.age ,self.color , self.legNumber)\r\n",
        "\r\n",
        "class Dogs(Animals):\r\n",
        "  def __init__ (self, n=' ', c=' ',t=' ', a=0,legNumber=0):\r\n",
        "        self.name = n\r\n",
        "        self.color = c\r\n",
        "        self.type = 'dog'\r\n",
        "        self.age = a\r\n",
        "        self.legNumber=4\r\n",
        "\r\n",
        "  def setType (self, t):\r\n",
        "        print ('{0} refuses to change type, it will always be a {1} in this life.'. format (self.name, self.type) )\r\n",
        "  def sound(self):\r\n",
        "    print(\"Hav Hav Hav !\")\r\n",
        "\r\n",
        "class Cats(Animals):\r\n",
        "  def __init__ (self, n=' ', c=' ',t=' ', a=0,legNumber=0):\r\n",
        "        self.name = n\r\n",
        "        self.color = c\r\n",
        "        self.type = 'cat'\r\n",
        "        self.age = a\r\n",
        "        self.legNumber=4\r\n",
        "\r\n",
        "  def setType (self, t):\r\n",
        "        print ('{0} refuses to change type, it will always be a {1} in this life.'. format (self.name, self.type) )\r\n",
        "\r\n",
        "  def sound(self):\r\n",
        "    print(\"Miyav Miyav !\")\r\n",
        "\r\n"
      ],
      "execution_count": 4,
      "outputs": []
    },
    {
      "cell_type": "code",
      "metadata": {
        "colab": {
          "base_uri": "https://localhost:8080/",
          "height": 35
        },
        "id": "ezxoPeML1Hb1",
        "outputId": "6bac31a5-43fa-44b4-cd53-78fc3f4acd02"
      },
      "source": [
        "\r\n",
        "dog1=Dogs('Paşa','Black','Bull Dog', 3)\r\n",
        "dog1.message()\r\n"
      ],
      "execution_count": 9,
      "outputs": [
        {
          "output_type": "execute_result",
          "data": {
            "application/vnd.google.colaboratory.intrinsic+json": {
              "type": "string"
            },
            "text/plain": [
              "'The Paşa is a 3 years old Black creature with 4 legs.'"
            ]
          },
          "metadata": {
            "tags": []
          },
          "execution_count": 9
        }
      ]
    },
    {
      "cell_type": "code",
      "metadata": {
        "colab": {
          "base_uri": "https://localhost:8080/"
        },
        "id": "H5nXnelR1ncX",
        "outputId": "9c64be2f-2a6a-4f9c-84b7-919b3d58d845"
      },
      "source": [
        "dog1.setType('Cat')"
      ],
      "execution_count": 10,
      "outputs": [
        {
          "output_type": "stream",
          "text": [
            "Paşa refuses to change type, it will always be a dog in this life.\n"
          ],
          "name": "stdout"
        }
      ]
    },
    {
      "cell_type": "code",
      "metadata": {
        "colab": {
          "base_uri": "https://localhost:8080/"
        },
        "id": "n8fa87FO1sQj",
        "outputId": "4d12baa4-e780-471f-913c-50774129bcfa"
      },
      "source": [
        "dog1.sound()"
      ],
      "execution_count": 11,
      "outputs": [
        {
          "output_type": "stream",
          "text": [
            "Hav Hav Hav !\n"
          ],
          "name": "stdout"
        }
      ]
    },
    {
      "cell_type": "code",
      "metadata": {
        "colab": {
          "base_uri": "https://localhost:8080/",
          "height": 35
        },
        "id": "MxfhWQK_1v3G",
        "outputId": "2055f188-8818-4efb-8824-d1b4976ea08c"
      },
      "source": [
        "cat1=Cats(\"Maviş\",\"White\",\"Sokak\",5)\r\n",
        "cat1.message()"
      ],
      "execution_count": 13,
      "outputs": [
        {
          "output_type": "execute_result",
          "data": {
            "application/vnd.google.colaboratory.intrinsic+json": {
              "type": "string"
            },
            "text/plain": [
              "'The Maviş is a 5 years old White creature with 4 legs.'"
            ]
          },
          "metadata": {
            "tags": []
          },
          "execution_count": 13
        }
      ]
    },
    {
      "cell_type": "code",
      "metadata": {
        "colab": {
          "base_uri": "https://localhost:8080/",
          "height": 35
        },
        "id": "cfcn8rCk18kx",
        "outputId": "a80bc11a-6c79-4006-c9a6-c9948cf750cf"
      },
      "source": [
        "cat1.getName()"
      ],
      "execution_count": 14,
      "outputs": [
        {
          "output_type": "execute_result",
          "data": {
            "application/vnd.google.colaboratory.intrinsic+json": {
              "type": "string"
            },
            "text/plain": [
              "'Maviş'"
            ]
          },
          "metadata": {
            "tags": []
          },
          "execution_count": 14
        }
      ]
    },
    {
      "cell_type": "code",
      "metadata": {
        "colab": {
          "base_uri": "https://localhost:8080/"
        },
        "id": "nMkfXLDo2EvD",
        "outputId": "379c652c-cbc3-4bcd-c392-013343e345f0"
      },
      "source": [
        "cat1.setType(\"Dog\")"
      ],
      "execution_count": 15,
      "outputs": [
        {
          "output_type": "stream",
          "text": [
            "Maviş refuses to change type, it will always be a cat in this life.\n"
          ],
          "name": "stdout"
        }
      ]
    },
    {
      "cell_type": "code",
      "metadata": {
        "colab": {
          "base_uri": "https://localhost:8080/"
        },
        "id": "Gt3-FvMY2L8Q",
        "outputId": "32a832a2-2786-40b2-e8b7-4c8358d242a3"
      },
      "source": [
        "cat1.sound()"
      ],
      "execution_count": 16,
      "outputs": [
        {
          "output_type": "stream",
          "text": [
            "Miyav Miyav !\n"
          ],
          "name": "stdout"
        }
      ]
    }
  ]
}