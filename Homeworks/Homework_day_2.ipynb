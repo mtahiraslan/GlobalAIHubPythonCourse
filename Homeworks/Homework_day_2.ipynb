{
  "nbformat": 4,
  "nbformat_minor": 0,
  "metadata": {
    "colab": {
      "name": "Homework_day_2.ipynb",
      "provenance": []
    },
    "kernelspec": {
      "name": "python3",
      "display_name": "Python 3"
    }
  },
  "cells": [
    {
      "cell_type": "code",
      "metadata": {
        "id": "b1RKMTssuyoP"
      },
      "source": [
        "# Homework Day 2"
      ],
      "execution_count": null,
      "outputs": []
    },
    {
      "cell_type": "code",
      "metadata": {
        "id": "EuUPjy6qwFC0",
        "colab": {
          "base_uri": "https://localhost:8080/"
        },
        "outputId": "2c37f651-30b1-410e-a9ef-80ddad3ec54d"
      },
      "source": [
        "#Question1\r\n",
        "list=[10,20,30,40,50,60,70,80,90,100]\r\n",
        "index=int(len(list)/2)\r\n",
        "list[:index],list[index:]=list[index:],list[:index]\r\n",
        "print(list)\r\n"
      ],
      "execution_count": 16,
      "outputs": [
        {
          "output_type": "stream",
          "text": [
            "[60, 70, 80, 90, 100, 10, 20, 30, 40, 50]\n"
          ],
          "name": "stdout"
        }
      ]
    },
    {
      "cell_type": "code",
      "metadata": {
        "colab": {
          "base_uri": "https://localhost:8080/"
        },
        "id": "hW6BgFXwYRmN",
        "outputId": "1d5795a5-ed7e-4540-cb62-e014a0576fb1"
      },
      "source": [
        "#Question2\r\n",
        "is_digit=True\r\n",
        "while is_digit:\r\n",
        "  n=str(input(\"Please enter a single digit number..\"))\r\n",
        "  if(len(n)!=1):\r\n",
        "    print(\"Please just enter a single digit number!\")\r\n",
        "  else:\r\n",
        "      is_digit=False\r\n",
        "      n=int(n)\r\n",
        "\r\n",
        "for i in range(0,n+1):\r\n",
        "  if(i%2==0):\r\n",
        "    print(i)"
      ],
      "execution_count": 39,
      "outputs": [
        {
          "output_type": "stream",
          "text": [
            "Please enter a single digit number..8\n",
            "0\n",
            "2\n",
            "4\n",
            "6\n",
            "8\n"
          ],
          "name": "stdout"
        }
      ]
    }
  ]
}